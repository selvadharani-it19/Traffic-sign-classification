{
  "nbformat": 4,
  "nbformat_minor": 0,
  "metadata": {
    "accelerator": "GPU",
    "colab": {
      "name": "traffic sign classification.ipynb",
      "provenance": [],
      "collapsed_sections": [],
      "include_colab_link": true
    },
    "kernelspec": {
      "display_name": "Python 3",
      "name": "python3"
    }
  },
  "cells": [
    {
      "cell_type": "markdown",
      "metadata": {
        "id": "view-in-github",
        "colab_type": "text"
      },
      "source": [
        "<a href=\"https://colab.research.google.com/github/selvadharani-it19/Traffic-sign-classification/blob/main/traffic_sign_classification.ipynb\" target=\"_parent\"><img src=\"https://colab.research.google.com/assets/colab-badge.svg\" alt=\"Open In Colab\"/></a>"
      ]
    },
    {
      "cell_type": "code",
      "metadata": {
        "colab": {
          "resources": {
            "http://localhost:8080/nbextensions/google.colab/files.js": {
              "data": "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",
              "headers": [
                [
                  "content-type",
                  "application/javascript"
                ]
              ],
              "ok": true,
              "status": 200,
              "status_text": ""
            }
          },
          "base_uri": "https://localhost:8080/",
          "height": 60
        },
        "id": "KybmQkX91dqQ",
        "outputId": "93d89513-2d95-4867-955f-6ba50fa211d3"
      },
      "source": [
        "from google.colab import files\n",
        "files.upload()"
      ],
      "execution_count": null,
      "outputs": [
        {
          "data": {
            "text/html": [
              "\n",
              "     <input type=\"file\" id=\"files-36206954-2b46-45f4-a7d2-120b2f2e5017\" name=\"files[]\" multiple disabled\n",
              "        style=\"border:none\" />\n",
              "     <output id=\"result-36206954-2b46-45f4-a7d2-120b2f2e5017\">\n",
              "      Upload widget is only available when the cell has been executed in the\n",
              "      current browser session. Please rerun this cell to enable.\n",
              "      </output>\n",
              "      <script src=\"/nbextensions/google.colab/files.js\"></script> "
            ],
            "text/plain": [
              "<IPython.core.display.HTML object>"
            ]
          },
          "metadata": {
            "tags": []
          },
          "output_type": "display_data"
        }
      ]
    },
    {
      "cell_type": "code",
      "metadata": {
        "colab": {
          "base_uri": "https://localhost:8080/"
        },
        "id": "EvNMNvgTlF0D",
        "outputId": "d22f369d-0636-4f54-d7cf-a50c93bd8b91"
      },
      "source": [
        "!apt-get install rar"
      ],
      "execution_count": null,
      "outputs": [
        {
          "name": "stdout",
          "output_type": "stream",
          "text": [
            "Reading package lists... Done\n",
            "Building dependency tree       \n",
            "Reading state information... Done\n",
            "The following NEW packages will be installed:\n",
            "  rar\n",
            "0 upgraded, 1 newly installed, 0 to remove and 40 not upgraded.\n",
            "Need to get 295 kB of archives.\n",
            "After this operation, 799 kB of additional disk space will be used.\n",
            "Get:1 http://archive.ubuntu.com/ubuntu bionic/multiverse amd64 rar amd64 2:5.5.0-1 [295 kB]\n",
            "Fetched 295 kB in 2s (167 kB/s)\n",
            "Selecting previously unselected package rar.\n",
            "(Reading database ... 160837 files and directories currently installed.)\n",
            "Preparing to unpack .../rar_2%3a5.5.0-1_amd64.deb ...\n",
            "Unpacking rar (2:5.5.0-1) ...\n",
            "Setting up rar (2:5.5.0-1) ...\n",
            "Processing triggers for man-db (2.8.3-2ubuntu0.1) ...\n"
          ]
        }
      ]
    },
    {
      "cell_type": "markdown",
      "metadata": {
        "id": "5WMo2Vo6fs_e"
      },
      "source": [
        ""
      ]
    },
    {
      "cell_type": "code",
      "metadata": {
        "id": "SoIhzmrV1vUU"
      },
      "source": [
        "!pip install -q kaggle"
      ],
      "execution_count": null,
      "outputs": []
    },
    {
      "cell_type": "code",
      "metadata": {
        "id": "zK5mHK0M2MDJ"
      },
      "source": [
        "!mkdir -p ~/.kaggle"
      ],
      "execution_count": null,
      "outputs": []
    },
    {
      "cell_type": "code",
      "metadata": {
        "id": "9oOIH0TU2NDk"
      },
      "source": [
        "!cp kaggle.json ~/.kaggle/"
      ],
      "execution_count": null,
      "outputs": []
    },
    {
      "cell_type": "code",
      "metadata": {
        "id": "EaR2lY342hK9"
      },
      "source": [
        "!kaggle datasets download -d meowmeowmeowmeowmeow/gtsrb-german-traffic-sign"
      ],
      "execution_count": null,
      "outputs": []
    },
    {
      "cell_type": "code",
      "metadata": {
        "id": "11SobU-grPf6"
      },
      "source": [
        "!unzip \"/content/gtsrb-german-traffic-sign.zip\""
      ],
      "execution_count": null,
      "outputs": []
    },
    {
      "cell_type": "code",
      "metadata": {
        "id": "WkxOaUEMU0xp"
      },
      "source": [
        "import numpy as np \n",
        "import pandas as pd \n",
        "import matplotlib.pyplot as plt\n",
        "import tensorflow as tf\n",
        "from PIL import Image\n",
        "import os\n",
        "from sklearn.model_selection import train_test_split\n",
        "from tensorflow.keras.utils import to_categorical\n",
        "from tensorflow.keras.models import Sequential, load_model\n",
        "from tensorflow.keras.layers import Conv2D, MaxPool2D, Dense, Flatten, Dropout\n",
        "from keras.utils.vis_utils import plot_model"
      ],
      "execution_count": null,
      "outputs": []
    },
    {
      "cell_type": "code",
      "metadata": {
        "id": "YjzOwDiaGUoU"
      },
      "source": [
        "os.chdir('/content')"
      ],
      "execution_count": null,
      "outputs": []
    },
    {
      "cell_type": "code",
      "metadata": {
        "id": "kmrbujUsGVq7"
      },
      "source": [
        "data = []\n",
        "labels = []\n",
        "# We have 43 Classes\n",
        "classes = 43\n",
        "cur_path = os.getcwd()"
      ],
      "execution_count": null,
      "outputs": []
    },
    {
      "cell_type": "markdown",
      "metadata": {
        "id": "8z7FbMvX5n_H"
      },
      "source": [
        ""
      ]
    },
    {
      "cell_type": "code",
      "metadata": {
        "id": "4YjE5Yncaslx"
      },
      "source": [
        "for i in range(classes):\n",
        "    path = os.path.join(cur_path,'Train',str(i))\n",
        "    images = os.listdir(path)\n",
        "    for a in images:\n",
        "        try:\n",
        "            image = Image.open(path + '//'+ a)\n",
        "            image = image.resize((30,30))\n",
        "            image = np.array(image)\n",
        "            data.append(image)\n",
        "            labels.append(i)\n",
        "        except Exception as e:\n",
        "            print(e)"
      ],
      "execution_count": null,
      "outputs": []
    },
    {
      "cell_type": "code",
      "metadata": {
        "id": "vai8ViMwnGQk"
      },
      "source": [
        "cur_path\n",
        "!mkdir training"
      ],
      "execution_count": null,
      "outputs": []
    },
    {
      "cell_type": "code",
      "metadata": {
        "colab": {
          "base_uri": "https://localhost:8080/",
          "height": 35
        },
        "id": "tmkP_8GqpRY5",
        "outputId": "ecac3108-a34d-4d89-c96d-1fa2392fc8d0"
      },
      "source": [
        "np.save('./training/data',data)\n",
        "np.save('./training/target',labels)\n",
        "cur_path"
      ],
      "execution_count": null,
      "outputs": [
        {
          "data": {
            "application/vnd.google.colaboratory.intrinsic+json": {
              "type": "string"
            },
            "text/plain": [
              "'/content'"
            ]
          },
          "execution_count": 15,
          "metadata": {
            "tags": []
          },
          "output_type": "execute_result"
        }
      ]
    },
    {
      "cell_type": "code",
      "metadata": {
        "id": "v6xrH9J8p_Jz"
      },
      "source": [
        "data=np.load('./training/data.npy')\n",
        "labels=np.load('./training/target.npy')"
      ],
      "execution_count": null,
      "outputs": []
    },
    {
      "cell_type": "code",
      "metadata": {
        "colab": {
          "base_uri": "https://localhost:8080/"
        },
        "id": "IPs4gMh3qG1a",
        "outputId": "0862f502-04c4-4236-87d3-c93d1e71be47"
      },
      "source": [
        "print(data.shape, labels.shape)"
      ],
      "execution_count": null,
      "outputs": [
        {
          "name": "stdout",
          "output_type": "stream",
          "text": [
            "(0,) (0,)\n"
          ]
        }
      ]
    },
    {
      "cell_type": "code",
      "metadata": {
        "id": "JBDImxW6qLdW"
      },
      "source": [
        "X_train, X_test, y_train, y_test = train_test_split(data, labels, test_size=0.2, random_state=0)"
      ],
      "execution_count": null,
      "outputs": []
    },
    {
      "cell_type": "code",
      "metadata": {
        "colab": {
          "base_uri": "https://localhost:8080/"
        },
        "id": "-B3BLFA4qOlK",
        "outputId": "19cf5439-50d8-4aff-a706-ed5df1d6d578"
      },
      "source": [
        "print(labels)\n",
        "print(X_train.shape, X_test.shape, y_train.shape, y_test.shape)"
      ],
      "execution_count": null,
      "outputs": [
        {
          "name": "stdout",
          "output_type": "stream",
          "text": [
            "[ 0  0  0 ... 42 42 42]\n",
            "(31367, 30, 30, 3) (7842, 30, 30, 3) (31367,) (7842,)\n"
          ]
        }
      ]
    },
    {
      "cell_type": "code",
      "metadata": {
        "id": "b5nx3HNB9sTZ"
      },
      "source": [
        "y_train=to_categorical(y_train)\n",
        "y_test=to_categorical(y_test)"
      ],
      "execution_count": null,
      "outputs": []
    },
    {
      "cell_type": "code",
      "metadata": {
        "id": "yT8zmSBAtUAY"
      },
      "source": [
        "model = Sequential()\n",
        "model.add(Conv2D(filters=32, kernel_size=(5,5), activation='tanh',input_shape=X_train.shape[1:]))\n",
        "model.add(Conv2D(filters=32, kernel_size=(5,5), activation='tanh'))\n",
        "model.add(MaxPool2D(pool_size=(2, 2)))\n",
        "model.add(Dropout(rate=0.25))\n",
        "model.add(Conv2D(filters=64, kernel_size=(3, 3), activation='tanh'))\n",
        "model.add(Conv2D(filters=64, kernel_size=(3, 3), activation='tanh'))\n",
        "model.add(MaxPool2D(pool_size=(2, 2)))\n",
        "model.add(Dropout(rate=0.25))\n",
        "model.add(Flatten())\n",
        "model.add(Dense(256, activation='tanh'))\n",
        "model.add(Dropout(rate=0.5))\n",
        "# We have 43 classes \n",
        "model.add(Dense(43, activation='softmax'))"
      ],
      "execution_count": null,
      "outputs": []
    },
    {
      "cell_type": "code",
      "metadata": {
        "id": "7tzmG08BqcY4"
      },
      "source": [
        "model.compile(loss='categorical_crossentropy', optimizer='Adamax', metrics=['accuracy'])"
      ],
      "execution_count": null,
      "outputs": []
    },
    {
      "cell_type": "code",
      "metadata": {
        "id": "VnP3NGtvMM6i"
      },
      "source": [
        "model.compile(loss='categorical_crossentropy', optimizer='Adagrad', metrics=['accuracy'])"
      ],
      "execution_count": null,
      "outputs": []
    },
    {
      "cell_type": "markdown",
      "metadata": {
        "id": "O3JCbV_Nrpf3"
      },
      "source": [
        ""
      ]
    },
    {
      "cell_type": "code",
      "metadata": {
        "colab": {
          "base_uri": "https://localhost:8080/"
        },
        "id": "pqjnXTG8qh67",
        "outputId": "1ea1a40a-5adc-470a-9487-6eab56419274"
      },
      "source": [
        "epochs = 20\n",
        "history = model.fit(X_train, y_train, batch_size=32, epochs=epochs,validation_data=(X_test,y_test))\n"
      ],
      "execution_count": null,
      "outputs": [
        {
          "name": "stdout",
          "output_type": "stream",
          "text": [
            "Epoch 1/20\n",
            "981/981 [==============================] - 5s 5ms/step - loss: 1.0627 - accuracy: 0.7232 - val_loss: 0.1966 - val_accuracy: 0.9529\n",
            "Epoch 2/20\n",
            "981/981 [==============================] - 4s 5ms/step - loss: 0.2253 - accuracy: 0.9412 - val_loss: 0.0839 - val_accuracy: 0.9805\n",
            "Epoch 3/20\n",
            "981/981 [==============================] - 4s 4ms/step - loss: 0.1213 - accuracy: 0.9692 - val_loss: 0.0500 - val_accuracy: 0.9878\n",
            "Epoch 4/20\n",
            "981/981 [==============================] - 4s 4ms/step - loss: 0.0814 - accuracy: 0.9799 - val_loss: 0.0351 - val_accuracy: 0.9904\n",
            "Epoch 5/20\n",
            "981/981 [==============================] - 5s 5ms/step - loss: 0.0649 - accuracy: 0.9839 - val_loss: 0.0337 - val_accuracy: 0.9912\n",
            "Epoch 6/20\n",
            "981/981 [==============================] - 5s 5ms/step - loss: 0.0539 - accuracy: 0.9864 - val_loss: 0.0270 - val_accuracy: 0.9936\n",
            "Epoch 7/20\n",
            "981/981 [==============================] - 5s 5ms/step - loss: 0.0469 - accuracy: 0.9877 - val_loss: 0.0257 - val_accuracy: 0.9936\n",
            "Epoch 8/20\n",
            "981/981 [==============================] - 5s 5ms/step - loss: 0.0396 - accuracy: 0.9899 - val_loss: 0.0208 - val_accuracy: 0.9954\n",
            "Epoch 9/20\n",
            "981/981 [==============================] - 5s 5ms/step - loss: 0.0352 - accuracy: 0.9908 - val_loss: 0.0219 - val_accuracy: 0.9944\n",
            "Epoch 10/20\n",
            "981/981 [==============================] - 5s 5ms/step - loss: 0.0287 - accuracy: 0.9926 - val_loss: 0.0173 - val_accuracy: 0.9960\n",
            "Epoch 11/20\n",
            "981/981 [==============================] - 5s 5ms/step - loss: 0.0252 - accuracy: 0.9941 - val_loss: 0.0176 - val_accuracy: 0.9958\n",
            "Epoch 12/20\n",
            "981/981 [==============================] - 4s 5ms/step - loss: 0.0230 - accuracy: 0.9950 - val_loss: 0.0182 - val_accuracy: 0.9958\n",
            "Epoch 13/20\n",
            "981/981 [==============================] - 4s 5ms/step - loss: 0.0226 - accuracy: 0.9938 - val_loss: 0.0168 - val_accuracy: 0.9958\n",
            "Epoch 14/20\n",
            "981/981 [==============================] - 5s 5ms/step - loss: 0.0212 - accuracy: 0.9945 - val_loss: 0.0148 - val_accuracy: 0.9966\n",
            "Epoch 15/20\n",
            "981/981 [==============================] - 4s 4ms/step - loss: 0.0202 - accuracy: 0.9948 - val_loss: 0.0142 - val_accuracy: 0.9966\n",
            "Epoch 16/20\n",
            "981/981 [==============================] - 4s 4ms/step - loss: 0.0171 - accuracy: 0.9953 - val_loss: 0.0147 - val_accuracy: 0.9963\n",
            "Epoch 17/20\n",
            "981/981 [==============================] - 4s 4ms/step - loss: 0.0177 - accuracy: 0.9956 - val_loss: 0.0156 - val_accuracy: 0.9962\n",
            "Epoch 18/20\n",
            "981/981 [==============================] - 5s 5ms/step - loss: 0.0175 - accuracy: 0.9953 - val_loss: 0.0137 - val_accuracy: 0.9963\n",
            "Epoch 19/20\n",
            "981/981 [==============================] - 5s 5ms/step - loss: 0.0157 - accuracy: 0.9958 - val_loss: 0.0138 - val_accuracy: 0.9966\n",
            "Epoch 20/20\n",
            "981/981 [==============================] - 5s 5ms/step - loss: 0.0175 - accuracy: 0.9955 - val_loss: 0.0130 - val_accuracy: 0.9963\n"
          ]
        }
      ]
    },
    {
      "cell_type": "code",
      "metadata": {
        "id": "Pm_Vjm1S23I-"
      },
      "source": [
        "def testing(testcsv):\n",
        "    y_test = pd.read_csv(testcsv)\n",
        "    label = y_test[\"ClassId\"].values\n",
        "    imgs = y_test[\"Path\"].values\n",
        "    data=[]\n",
        "    for img in imgs:\n",
        "        image = Image.open(img)\n",
        "        image = image.resize((30,30))\n",
        "        data.append(np.array(image))\n",
        "    X_test=np.array(data)\n",
        "    return X_test,label"
      ],
      "execution_count": null,
      "outputs": []
    },
    {
      "cell_type": "code",
      "metadata": {
        "id": "PXWQvTfD25Fb"
      },
      "source": [
        "X_test, label = testing('Test.csv')"
      ],
      "execution_count": null,
      "outputs": []
    },
    {
      "cell_type": "code",
      "metadata": {
        "colab": {
          "background_save": true
        },
        "id": "TNzKcIOu2-DL"
      },
      "source": [
        "Y_pred = model.predict(X_test)\n",
        "Y_pred"
      ],
      "execution_count": null,
      "outputs": []
    },
    {
      "cell_type": "code",
      "metadata": {
        "colab": {
          "base_uri": "https://localhost:8080/"
        },
        "id": "qShnYFTm3EQW",
        "outputId": "b7a0b109-0560-4c9c-89b1-03d8ac01a783"
      },
      "source": [
        "from sklearn.metrics import accuracy_score\n",
        "print(accuracy_score(label, Y_pred))"
      ],
      "execution_count": null,
      "outputs": [
        {
          "name": "stdout",
          "output_type": "stream",
          "text": [
            "0.977513855898654\n"
          ]
        }
      ]
    },
    {
      "cell_type": "code",
      "metadata": {
        "colab": {
          "base_uri": "https://localhost:8080/"
        },
        "id": "fDImZ3KvMdAM",
        "outputId": "233fab95-d8db-43a3-e7c4-9bf8122653a8"
      },
      "source": [
        "epochs = 20\n",
        "history = model.fit(X_train, y_train, batch_size=32, epochs=epochs,validation_data=(X_test,y_test))\n"
      ],
      "execution_count": null,
      "outputs": [
        {
          "name": "stdout",
          "output_type": "stream",
          "text": [
            "Epoch 1/20\n",
            "981/981 [==============================] - 5s 5ms/step - loss: 2.8586 - accuracy: 0.2633 - val_loss: 1.9863 - val_accuracy: 0.5077\n",
            "Epoch 2/20\n",
            "981/981 [==============================] - 4s 5ms/step - loss: 1.8836 - accuracy: 0.5002 - val_loss: 1.3715 - val_accuracy: 0.6607\n",
            "Epoch 3/20\n",
            "981/981 [==============================] - 5s 5ms/step - loss: 1.4372 - accuracy: 0.6124 - val_loss: 1.0391 - val_accuracy: 0.7424\n",
            "Epoch 4/20\n",
            "981/981 [==============================] - 4s 5ms/step - loss: 1.1649 - accuracy: 0.6868 - val_loss: 0.8266 - val_accuracy: 0.8043\n",
            "Epoch 5/20\n",
            "981/981 [==============================] - 4s 5ms/step - loss: 0.9739 - accuracy: 0.7448 - val_loss: 0.6931 - val_accuracy: 0.8396\n",
            "Epoch 6/20\n",
            "981/981 [==============================] - 5s 5ms/step - loss: 0.8457 - accuracy: 0.7816 - val_loss: 0.5879 - val_accuracy: 0.8625\n",
            "Epoch 7/20\n",
            "981/981 [==============================] - 5s 5ms/step - loss: 0.7495 - accuracy: 0.8056 - val_loss: 0.5123 - val_accuracy: 0.8791\n",
            "Epoch 8/20\n",
            "981/981 [==============================] - 4s 5ms/step - loss: 0.6734 - accuracy: 0.8280 - val_loss: 0.4573 - val_accuracy: 0.8917\n",
            "Epoch 9/20\n",
            "981/981 [==============================] - 5s 5ms/step - loss: 0.6161 - accuracy: 0.8413 - val_loss: 0.4101 - val_accuracy: 0.9030\n",
            "Epoch 10/20\n",
            "981/981 [==============================] - 5s 5ms/step - loss: 0.5664 - accuracy: 0.8527 - val_loss: 0.3755 - val_accuracy: 0.9110\n",
            "Epoch 11/20\n",
            "981/981 [==============================] - 4s 4ms/step - loss: 0.5254 - accuracy: 0.8655 - val_loss: 0.3444 - val_accuracy: 0.9203\n",
            "Epoch 12/20\n",
            "981/981 [==============================] - 4s 4ms/step - loss: 0.4888 - accuracy: 0.8751 - val_loss: 0.3185 - val_accuracy: 0.9267\n",
            "Epoch 13/20\n",
            "981/981 [==============================] - 4s 4ms/step - loss: 0.4598 - accuracy: 0.8837 - val_loss: 0.2976 - val_accuracy: 0.9315\n",
            "Epoch 14/20\n",
            "981/981 [==============================] - 4s 5ms/step - loss: 0.4330 - accuracy: 0.8915 - val_loss: 0.2791 - val_accuracy: 0.9371\n",
            "Epoch 15/20\n",
            "981/981 [==============================] - 4s 4ms/step - loss: 0.4113 - accuracy: 0.8954 - val_loss: 0.2634 - val_accuracy: 0.9396\n",
            "Epoch 16/20\n",
            "981/981 [==============================] - 4s 4ms/step - loss: 0.3948 - accuracy: 0.9001 - val_loss: 0.2465 - val_accuracy: 0.9454\n",
            "Epoch 17/20\n",
            "981/981 [==============================] - 4s 4ms/step - loss: 0.3758 - accuracy: 0.9057 - val_loss: 0.2337 - val_accuracy: 0.9478\n",
            "Epoch 18/20\n",
            "981/981 [==============================] - 4s 4ms/step - loss: 0.3584 - accuracy: 0.9106 - val_loss: 0.2254 - val_accuracy: 0.9487\n",
            "Epoch 19/20\n",
            "981/981 [==============================] - 4s 4ms/step - loss: 0.3448 - accuracy: 0.9149 - val_loss: 0.2139 - val_accuracy: 0.9523\n",
            "Epoch 20/20\n",
            "981/981 [==============================] - 4s 4ms/step - loss: 0.3306 - accuracy: 0.9187 - val_loss: 0.2041 - val_accuracy: 0.9551\n"
          ]
        }
      ]
    },
    {
      "cell_type": "code",
      "metadata": {
        "id": "oO8dJtJOMZwU"
      },
      "source": [
        "def testing(testcsv):\n",
        "    y_test = pd.read_csv(testcsv)\n",
        "    label = y_test[\"ClassId\"].values\n",
        "    imgs = y_test[\"Path\"].values\n",
        "    data=[]\n",
        "    for img in imgs:\n",
        "        image = Image.open(img)\n",
        "        image = image.resize((30,30))\n",
        "        data.append(np.array(image))\n",
        "    X_test=np.array(data)\n",
        "    return X_test,label\n",
        "    "
      ],
      "execution_count": null,
      "outputs": []
    },
    {
      "cell_type": "code",
      "metadata": {
        "id": "nfSrnlyJRchN"
      },
      "source": [
        "Y_pred = model.predict_classes(X_test)\n",
        "Y_pred"
      ],
      "execution_count": null,
      "outputs": []
    },
    {
      "cell_type": "code",
      "metadata": {
        "id": "Hhtgjy9lRiGQ"
      },
      "source": [
        "from sklearn.metrics import accuracy_score\n",
        "print(accuracy_score(label, Y_pred))"
      ],
      "execution_count": null,
      "outputs": []
    },
    {
      "cell_type": "code",
      "metadata": {
        "id": "R7KY4ZrF3ldo"
      },
      "source": [
        "classes = { 0:'Speed limit (20km/h)',\n",
        "            1:'Speed limit (30km/h)', \n",
        "            2:'Speed limit (50km/h)', \n",
        "            3:'Speed limit (60km/h)', \n",
        "            4:'Speed limit (70km/h)', \n",
        "            5:'Speed limit (80km/h)', \n",
        "            6:'End of speed limit (80km/h)', \n",
        "            7:'Speed limit (100km/h)', \n",
        "            8:'Speed limit (120km/h)', \n",
        "            9:'No passing', \n",
        "            10:'No passing veh over 3.5 tons', \n",
        "            11:'Right-of-way at intersection', \n",
        "            12:'Priority road', \n",
        "            13:'Yield', \n",
        "            14:'Stop', \n",
        "            15:'No vehicles', \n",
        "            16:'Veh > 3.5 tons prohibited', \n",
        "            17:'No entry', \n",
        "            18:'General caution', \n",
        "            19:'Dangerous curve left', \n",
        "            20:'Dangerous curve right', \n",
        "            21:'Double curve', \n",
        "            22:'Bumpy road', \n",
        "            23:'Slippery road', \n",
        "            24:'Road narrows on the right', \n",
        "            25:'Road work', \n",
        "            26:'Traffic signals', \n",
        "            27:'Pedestrians', \n",
        "            28:'Children crossing', \n",
        "            29:'Bicycles crossing', \n",
        "            30:'Beware of ice/snow',\n",
        "            31:'Wild animals crossing', \n",
        "            32:'End speed + passing limits', \n",
        "            33:'Turn right ahead', \n",
        "            34:'Turn left ahead', \n",
        "            35:'Ahead only', \n",
        "            36:'Go straight or right', \n",
        "            37:'Go straight or left', \n",
        "            38:'Keep right', \n",
        "            39:'Keep left', \n",
        "            40:'Roundabout mandatory', \n",
        "            41:'End of no passing', \n",
        "            42:'End no passing veh > 3.5 tons' }\n"
      ],
      "execution_count": null,
      "outputs": []
    },
    {
      "cell_type": "code",
      "metadata": {
        "colab": {
          "base_uri": "https://localhost:8080/",
          "height": 338
        },
        "id": "wzUWxjpA389U",
        "outputId": "adc8cde2-cb7b-4d67-bc9e-06ccd17355dd"
      },
      "source": [
        "def _make_predict_function():\n",
        " \n",
        " plot,prediction = test_on_img('/content/Test/00005.png')\n",
        " s = [str(i) for i in prediction] \n",
        " a = int(\"\".join(s)) \n",
        " print(\"Predicted traffic sign is: \", classes[a])\n",
        " plt.imshow(plot)\n",
        " plt.show()\n",
        "_make_predict_function()"
      ],
      "execution_count": null,
      "outputs": [
        {
          "name": "stdout",
          "output_type": "stream",
          "text": [
            "Predicted traffic sign is:  Keep right\n"
          ]
        },
        {
          "name": "stderr",
          "output_type": "stream",
          "text": [
            "/usr/local/lib/python3.7/dist-packages/tensorflow/python/keras/engine/sequential.py:450: UserWarning: `model.predict_classes()` is deprecated and will be removed after 2021-01-01. Please use instead:* `np.argmax(model.predict(x), axis=-1)`,   if your model does multi-class classification   (e.g. if it uses a `softmax` last-layer activation).* `(model.predict(x) > 0.5).astype(\"int32\")`,   if your model does binary classification   (e.g. if it uses a `sigmoid` last-layer activation).\n",
            "  warnings.warn('`model.predict_classes()` is deprecated and '\n"
          ]
        },
        {
          "data": {
            "image/png": "[encoded data removed]",
            "text/plain": [
              "<Figure size 432x288 with 1 Axes>"
            ]
          },
          "metadata": {
            "tags": []
          },
          "output_type": "display_data"
        }
      ]
    },
    {
      "cell_type": "markdown",
      "metadata": {
        "id": "R9jtSvaB1vZQ"
      },
      "source": [
        ""
      ]
    },
    {
      "cell_type": "markdown",
      "metadata": {
        "id": "DZBB2QHe1s5b"
      },
      "source": [
        ""
      ]
    },
    {
      "cell_type": "code",
      "metadata": {
        "id": "LrdReh1EjY1B"
      },
      "source": [
        ""
      ],
      "execution_count": null,
      "outputs": []
    }
  ]
}